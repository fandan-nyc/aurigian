{
  "nbformat": 4,
  "nbformat_minor": 0,
  "metadata": {
    "colab": {
      "provenance": [],
      "authorship_tag": "ABX9TyOwVT6d6LhIvUgtg+AxocdA",
      "include_colab_link": true
    },
    "kernelspec": {
      "name": "python3",
      "display_name": "Python 3"
    },
    "language_info": {
      "name": "python"
    }
  },
  "cells": [
    {
      "cell_type": "markdown",
      "metadata": {
        "id": "view-in-github",
        "colab_type": "text"
      },
      "source": [
        "<a href=\"https://colab.research.google.com/github/fandan-nyc/aurigian/blob/main/data_processing.ipynb\" target=\"_parent\"><img src=\"https://colab.research.google.com/assets/colab-badge.svg\" alt=\"Open In Colab\"/></a>"
      ]
    },
    {
      "cell_type": "code",
      "execution_count": 1,
      "metadata": {
        "id": "KALOe9cKFy04"
      },
      "outputs": [],
      "source": [
        "! cd aurigian\n"
      ]
    },
    {
      "cell_type": "code",
      "source": [
        "! pip install padelpy\n",
        "! python aurigian/test.py\n"
      ],
      "metadata": {
        "colab": {
          "base_uri": "https://localhost:8080/"
        },
        "id": "u_PXtl2OIbed",
        "outputId": "a8bf75c9-b809-4cde-bf55-2ebce486a539"
      },
      "execution_count": null,
      "outputs": [
        {
          "output_type": "stream",
          "name": "stdout",
          "text": [
            "Looking in indexes: https://pypi.org/simple, https://us-python.pkg.dev/colab-wheels/public/simple/\n",
            "Requirement already satisfied: padelpy in /usr/local/lib/python3.10/dist-packages (0.1.14)\n",
            "2\n",
            "1\n",
            "2\n",
            "3\n",
            "start 10\n",
            "start 8\n",
            "8,faild !\n",
            "start 7\n",
            "10,faild !\n",
            "start 9\n",
            "7,faild !\n",
            "start 6\n",
            "9,faild !\n",
            "start 4\n",
            "6,faild !\n",
            "start 5\n",
            "4,faild !\n",
            "start 3\n"
          ]
        }
      ]
    }
  ]
}